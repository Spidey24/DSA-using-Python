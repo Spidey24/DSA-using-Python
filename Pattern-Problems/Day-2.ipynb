{
 "cells": [
  {
   "cell_type": "markdown",
   "id": "3f9970e6",
   "metadata": {},
   "source": [
    "### **Pattern Problems in Python**\n",
    "---"
   ]
  },
  {
   "cell_type": "markdown",
   "id": "e8cc84fc",
   "metadata": {},
   "source": [
    "  <p>You are given an Integer </b>'N'</b>,\n",
    "&nbsp; </p>\n",
    " Your task is to print following Patterns: </p>\n",
    "Q1\n",
    "<pre>\n",
    "For Example: \n",
    "If N = 4\n",
    "1 \n",
    "11\n",
    "111\n",
    "1111\n",
    "</pre>"
   ]
  },
  {
   "cell_type": "code",
   "execution_count": 1,
   "id": "823a436e",
   "metadata": {},
   "outputs": [
    {
     "name": "stdout",
     "output_type": "stream",
     "text": [
      "Enter int value :5\n",
      "1\n",
      "11\n",
      "111\n",
      "1111\n",
      "11111\n"
     ]
    }
   ],
   "source": [
    "#first solution is good but Time complexity is more \n",
    "def printPattern(n):\n",
    "    for i in range(n):\n",
    "        for j in range(i+1):\n",
    "            print(1, end='')\n",
    "        print()\n",
    "\n",
    "n = int(input('Enter int value :'))\n",
    "printPattern(n)"
   ]
  },
  {
   "cell_type": "code",
   "execution_count": 2,
   "id": "751858b4",
   "metadata": {},
   "outputs": [
    {
     "name": "stdout",
     "output_type": "stream",
     "text": [
      "Enter int value :6\n",
      "1\n",
      "11\n",
      "111\n",
      "1111\n",
      "11111\n",
      "111111\n"
     ]
    }
   ],
   "source": [
    "# Another better solution \n",
    "# Better one because we reduced Time complexity\n",
    "def printPattern(n):\n",
    "    s = '1'\n",
    "    for i in range(n):\n",
    "        print(s)\n",
    "        s = s + '1'\n",
    "n = int(input('Enter int value :'))\n",
    "printPattern(n)\n"
   ]
  },
  {
   "cell_type": "markdown",
   "id": "7e59d6d3",
   "metadata": {},
   "source": [
    "*Q2*\n",
    "<pre>\n",
    "If N = 4 ,Output must be :\n",
    "1234\n",
    "123\n",
    "12\n",
    "1\n",
    "</pre>\n"
   ]
  },
  {
   "cell_type": "code",
   "execution_count": 3,
   "id": "22c97e9d",
   "metadata": {},
   "outputs": [
    {
     "name": "stdout",
     "output_type": "stream",
     "text": [
      "1234\n",
      "123\n",
      "12\n",
      "1\n"
     ]
    }
   ],
   "source": [
    "def numericPattern(n):\n",
    "    for i in range(n):\n",
    "        for j in range(n-i):\n",
    "            print(j+1,end = '')\n",
    "        print()\n",
    "\n",
    "numericPattern(4)"
   ]
  },
  {
   "cell_type": "code",
   "execution_count": 4,
   "id": "5d24bfbd",
   "metadata": {},
   "outputs": [
    {
     "data": {
      "text/plain": [
       "['1234', '123', '12', '1']"
      ]
     },
     "execution_count": 4,
     "metadata": {},
     "output_type": "execute_result"
    }
   ],
   "source": [
    "# Added constraint the numbers should be in list \n",
    "# And values should be in string instead of int\n",
    "def numericPattern(n):\n",
    "    nlist = []\n",
    "    for i in range(n):\n",
    "        s = ''\n",
    "        for j in range(n-i):\n",
    "            s = s + str(j+1)\n",
    "        nlist.append(s)\n",
    "    return nlist\n",
    "\n",
    "numericPattern(4)\n",
    "            "
   ]
  },
  {
   "cell_type": "markdown",
   "id": "9d461698",
   "metadata": {},
   "source": [
    "*Q3* \n",
    "<pre>\n",
    "For input value of N, Build a simple number triangle Pattern\n",
    "If N = 4\n",
    "1\n",
    "22\n",
    "333\n",
    "4444\n",
    "</pre>"
   ]
  },
  {
   "cell_type": "code",
   "execution_count": 5,
   "id": "8850743c",
   "metadata": {},
   "outputs": [
    {
     "name": "stdout",
     "output_type": "stream",
     "text": [
      "Enter number of rows:4\n",
      "\n",
      "1 \n",
      "2 2 \n",
      "3 3 3 \n",
      "4 4 4 4 \n"
     ]
    }
   ],
   "source": [
    "N = int(input('Enter number of rows:'))\n",
    "\n",
    "for num in range(N+1):\n",
    "    for i in range(num):\n",
    "        print(num, end=\" \") \n",
    "\n",
    "    print(\"\")"
   ]
  },
  {
   "cell_type": "markdown",
   "id": "b6e2804a",
   "metadata": {},
   "source": [
    "*Q4*\n",
    "<pre>\n",
    "For given integer 'n' = 4:\n",
    "1\n",
    "23\n",
    "345\n",
    "4567\n",
    "\n",
    "</pre>"
   ]
  },
  {
   "cell_type": "code",
   "execution_count": 6,
   "id": "9f134fcb",
   "metadata": {},
   "outputs": [
    {
     "name": "stdout",
     "output_type": "stream",
     "text": [
      "1\n",
      "23\n",
      "345\n",
      "4567\n"
     ]
    }
   ],
   "source": [
    "def print_pattern(n):\n",
    "    start = 1\n",
    "    for i in range(1, n+1):\n",
    "        row = \"\"\n",
    "        for j in range(i):\n",
    "            row += str(start+j)\n",
    "        print(row)\n",
    "        start += 1\n",
    "print_pattern(4)"
   ]
  },
  {
   "cell_type": "markdown",
   "id": "48eaae88",
   "metadata": {},
   "source": [
    "*Q5*\n",
    "<pre>\n",
    "Print a reverse Pyramid of Numbers\n",
    "For given integer 'n' = 4:\n",
    "1\n",
    "21\n",
    "321\n",
    "4321\n",
    "</pre>"
   ]
  },
  {
   "cell_type": "code",
   "execution_count": null,
   "id": "bb7f53d7",
   "metadata": {},
   "outputs": [],
   "source": [
    "n = int(input('Enter the number of rows :'))\n",
    "for r in range(1,n+1):\n",
    "    for c in range(r,0,-1):\n",
    "        print(c,end='')\n",
    "    print('')"
   ]
  },
  {
   "cell_type": "markdown",
   "id": "9e937498",
   "metadata": {},
   "source": [
    "*Q6*\n",
    "<pre>\n",
    "Print a unique series of digits\n",
    "1\n",
    "121\n",
    "12321\n",
    "1234321\n",
    "and  so on...\n",
    "</pre>"
   ]
  },
  {
   "cell_type": "code",
   "execution_count": null,
   "id": "df84a812",
   "metadata": {},
   "outputs": [],
   "source": [
    "r = int(input('Enter the number of rows :'))\n",
    "for i in range(1,rows+2):\n",
    "    for j in range(1,i-1):\n",
    "        print(j,end='')\n",
    "    for k in range(i-1,0,-1):\n",
    "        print(k,end='')\n",
    "    print()"
   ]
  },
  {
   "cell_type": "markdown",
   "id": "018a2d04",
   "metadata": {},
   "source": [
    "*Q7*\n",
    "<pre>\n",
    "Connected Inverted Pyramid Pattern of Numbers\n",
    "5432112345\n",
    "54322345\n",
    "543345\n",
    "5445\n",
    "55\n",
    "</pre>"
   ]
  },
  {
   "cell_type": "code",
   "execution_count": null,
   "id": "1db9db44",
   "metadata": {},
   "outputs": [],
   "source": [
    "rows = 6\n",
    "\n",
    "for i in range(0, rows):\n",
    "    for j in range(5, i, -1):\n",
    "        print(j, end='')\n",
    "    for l in range(i):\n",
    "        print('', end='')\n",
    "    for k in range(i + 1, rows):\n",
    "        print(k, end='')\n",
    "    print('\\n')"
   ]
  },
  {
   "cell_type": "markdown",
   "id": "01cc2465",
   "metadata": {},
   "source": [
    "*Q8*\n",
    "Pattern of *\n",
    "\n",
    "---\n",
    "<pre>\n",
    "A Right-angled triangle with *\n",
    "* \n",
    "** \n",
    "*** \n",
    "**** \n",
    "</pre>"
   ]
  },
  {
   "cell_type": "code",
   "execution_count": null,
   "id": "2ed907d3",
   "metadata": {},
   "outputs": [],
   "source": [
    "size = int(input('Enter the size: '))\n",
    "\n",
    "m = (2 * size)-2\n",
    "\n",
    "for i in range(0, size):\n",
    "    for j in range(0, m):\n",
    "        print(end=\"\")\n",
    "    m = m-1\n",
    "    for j in range(0, i + 1):\n",
    "        print(\"*\", end='')\n",
    "    print(\" \")"
   ]
  },
  {
   "cell_type": "markdown",
   "id": "b72029c6",
   "metadata": {},
   "source": [
    "*Q9*\n",
    "<pre>\n",
    "A Downward triangle with *\n",
    "******\n",
    "*****\n",
    "****\n",
    "***\n",
    "**\n",
    "*\n",
    "</pre>"
   ]
  },
  {
   "cell_type": "code",
   "execution_count": null,
   "id": "623bb6d6",
   "metadata": {},
   "outputs": [],
   "source": [
    "rows = 5\n",
    "\n",
    "k = 2*rows-2\n",
    "\n",
    "for i in range(rows, -1, -1):\n",
    "    for j in range(k, 0, -1):\n",
    "        print(end=\"\")\n",
    "    k = k + 1\n",
    "    for j in range(0, i + 1):\n",
    "        print(\"*\",end='')\n",
    "\n",
    "    print('')"
   ]
  },
  {
   "cell_type": "code",
   "execution_count": null,
   "id": "17768966",
   "metadata": {},
   "outputs": [],
   "source": []
  }
 ],
 "metadata": {
  "kernelspec": {
   "display_name": "Python 3 (ipykernel)",
   "language": "python",
   "name": "python3"
  },
  "language_info": {
   "codemirror_mode": {
    "name": "ipython",
    "version": 3
   },
   "file_extension": ".py",
   "mimetype": "text/x-python",
   "name": "python",
   "nbconvert_exporter": "python",
   "pygments_lexer": "ipython3",
   "version": "3.9.13"
  }
 },
 "nbformat": 4,
 "nbformat_minor": 5
}
