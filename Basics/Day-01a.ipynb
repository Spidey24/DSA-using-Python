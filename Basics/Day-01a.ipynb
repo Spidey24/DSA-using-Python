{
 "cells": [
  {
   "cell_type": "markdown",
   "id": "459e8152",
   "metadata": {},
   "source": [
    "### OOPs Concepts of Python\n",
    "---"
   ]
  },
  {
   "cell_type": "code",
   "execution_count": 1,
   "id": "589a7c88",
   "metadata": {},
   "outputs": [
    {
     "name": "stdout",
     "output_type": "stream",
     "text": [
      "<__main__.Employee object at 0x00000240C4415BB0>\n",
      "<__main__.Employee object at 0x00000240C4415190>\n"
     ]
    }
   ],
   "source": [
    "# OOps in Python\n",
    "# Class Syntac -> class <classname>:\n",
    "class Employee: \n",
    "    pass\n",
    "#Object creation \n",
    "#Syntac -> <objname> = <classname>()\n",
    "emp_1 = Employee()\n",
    "emp_2 = Employee()\n",
    "\n",
    "print(emp_1)\n",
    "print(emp_2)"
   ]
  },
  {
   "cell_type": "code",
   "execution_count": 2,
   "id": "871b043a",
   "metadata": {},
   "outputs": [
    {
     "name": "stdout",
     "output_type": "stream",
     "text": [
      "as101@comp.com \t dp101@comp.com\n"
     ]
    }
   ],
   "source": [
    "#creating instance variables\n",
    "emp_1.first = 'Amy'\n",
    "emp_1.last = 'Suchlz'\n",
    "emp_1.email = 'as101@comp.com'\n",
    "emp_1.pay = 50000\n",
    "\n",
    "emp_2.first = 'Daniel'\n",
    "emp_2.last = 'Pittsberg'\n",
    "emp_2.email = 'dp101@comp.com'\n",
    "emp_2.pay = 54000\n",
    "\n",
    "print(emp_1.email,'\\t',emp_2.email)"
   ]
  },
  {
   "cell_type": "code",
   "execution_count": 3,
   "id": "efc58854",
   "metadata": {},
   "outputs": [
    {
     "name": "stdout",
     "output_type": "stream",
     "text": [
      "<__main__.Emp object at 0x00000240C44585E0>\n",
      "<__main__.Emp object at 0x00000240C4458640>\n",
      "\n",
      "Emp email--------------------\n",
      "asuchin101@comp.com\n",
      "cradiel101@comp.com\n",
      "\n",
      "Emp Full name-----------------\n",
      "Amelia Suchin\n",
      "Corey Radiel\n"
     ]
    }
   ],
   "source": [
    "#Classs methods\n",
    "class Emp: \n",
    "    def __init__(self,first,last,pay):\n",
    "        self.first = first\n",
    "        self.last = last\n",
    "        self.pay = pay\n",
    "        self.email = first[0].lower()  + last.lower() + '101@comp.com'\n",
    "    \n",
    "    def fullname(self):\n",
    "        return '{} {}'.format(self.first, self.last)\n",
    "\n",
    "emp_1 = Emp('Amelia','Suchin',52000)\n",
    "emp_2 = Emp('Corey','Radiel',40000)\n",
    "\n",
    "print(emp_1)\n",
    "print(emp_2)\n",
    "print('\\nEmp email--------------------')\n",
    "print(emp_1.email)\n",
    "print(emp_2.email)\n",
    "print('\\nEmp Full name-----------------')\n",
    "print(f'{emp_1.first} {emp_1.last}') # Primitive method\n",
    "print(emp_2.fullname()) #Calling method"
   ]
  },
  {
   "cell_type": "code",
   "execution_count": 26,
   "id": "ee812208",
   "metadata": {},
   "outputs": [
    {
     "name": "stdout",
     "output_type": "stream",
     "text": [
      "Number of employees------------------->\n",
      "0\n",
      "\n",
      "Using class variable & method----------->\n",
      "52000\n",
      "1000\n",
      "53000\n",
      "\n",
      "Number of employees------------------->\n",
      "2\n"
     ]
    }
   ],
   "source": [
    "#Creating class variable\n",
    "class EmpComp:\n",
    "    number_of_emps = 0\n",
    "    raise_amount = 1000\n",
    "    def __init__(self,first,last,pay):\n",
    "        self.first = first\n",
    "        self.last = last\n",
    "        self.pay = pay\n",
    "        self.email = first[0].lower()  + last.lower() + '101@comp.com'\n",
    "        EmpComp.number_of_emps += 1\n",
    "    def fullname(self):\n",
    "        return '{} {}'.format(self.first, self.last)\n",
    "    \n",
    "    def appraisal(self):\n",
    "        self.pay = int(self.pay + self.raise_amount)\n",
    "print('Number of employees------------------->')\n",
    "print(EmpComp.number_of_emps)\n",
    "emp_1 = EmpComp('Amelia','Suchin',52000)\n",
    "emp_2 = EmpComp('Corey','Radiel',40000)\n",
    "print('\\nUsing class variable & method----------->')\n",
    "print(emp_1.pay)\n",
    "emp_1.appraisal()\n",
    "print(emp_1.raise_amount)\n",
    "print(emp_1.pay)\n",
    "print('\\nNumber of employees------------------->')\n",
    "print(EmpComp.number_of_emps)"
   ]
  },
  {
   "cell_type": "code",
   "execution_count": 5,
   "id": "d03244b9",
   "metadata": {},
   "outputs": [
    {
     "name": "stdout",
     "output_type": "stream",
     "text": [
      "200\n",
      "200\n",
      "-------------\n",
      "100\n",
      "200\n"
     ]
    }
   ],
   "source": [
    "# If we change for class it's changed for objects to until n unless object have there another instance value\n",
    "EmpComp.raise_amount = 200\n",
    "print(emp_1.raise_amount)\n",
    "print(emp_2.raise_amount)\n",
    "print('-------------')\n",
    "# Point to be noted if an instance is used to change class vairable it changes for object only\n",
    "emp_1.raise_amount = 100\n",
    "print(emp_1.raise_amount)\n",
    "print(emp_2.raise_amount)\n",
    "# This is because object created a separted value for entity present in class"
   ]
  },
  {
   "cell_type": "code",
   "execution_count": 33,
   "id": "f1cbe375",
   "metadata": {},
   "outputs": [
    {
     "name": "stdout",
     "output_type": "stream",
     "text": [
      "Number of employees------------------->\n",
      "0\n",
      "\n",
      "Using Traditional orientation------->\n",
      "jdoe101@comp.com\n",
      "John Doe\n",
      "\n",
      "Using class method---------------->\n",
      "lcroft101@comp.com\n",
      "Lara Croft\n",
      "Using static method---------->\n",
      "False\n"
     ]
    }
   ],
   "source": [
    "class EmpComp2:\n",
    "    numb_of_emps = 0\n",
    "    raise_amount = 1000\n",
    "    def __init__(self,first,last,pay):\n",
    "        self.first = first\n",
    "        self.last = last\n",
    "        self.pay = pay\n",
    "        self.email = first[0].lower()  + last.lower() + '101@comp.com'\n",
    "        EmpComp2.numb_of_emps += 1\n",
    "    def fullname(self):\n",
    "        return '{} {}'.format(self.first, self.last)\n",
    "    \n",
    "    def appraisal(self):\n",
    "        self.pay = int(self.pay + self.raise_amount)\n",
    "        \n",
    "    @classmethod #class method decorator\n",
    "    def set_raise_amt(cls, amount):\n",
    "        cls.raise_am = amount\n",
    "        \n",
    "    #Another method of adding new employee\n",
    "    @classmethod\n",
    "    def from_string(cls,emp_str):\n",
    "        first,last,pay = emp_str.split('-') \n",
    "        return cls(first,last,pay)\n",
    "    @staticmethod\n",
    "    def is_workday(day): # Assuming Monday to be mon & so on...\n",
    "        if day == 'sun' or day == 'sat':\n",
    "            return False\n",
    "        return True\n",
    "        \n",
    "print('Number of employees------------------->')\n",
    "print(EmpComp2.numb_of_emps)\n",
    "emp_1 = EmpComp2('Amelia','Suchin',52000)\n",
    "emp_2 = EmpComp2('Corey','Radiel',40000)\n",
    "\n",
    "# EmpComp2.set_raise_amt(500)\n",
    "\n",
    "# print('Class & Instance raise amount---------->')\n",
    "# print(EmpComp2.raise_amount)\n",
    "# print(emp_1.raise_amount)\n",
    "# print(emp_2.raise_amount)\n",
    "\n",
    "# OUTPUT :\n",
    "#   Class & Instance raise amount---------->\n",
    "# 500\n",
    "# 500\n",
    "# 500  \n",
    "\n",
    "#Adding a new employee using string\n",
    "emp_str_1 = 'John-Doe-69000'\n",
    "emp_str2 = 'Lara-Croft-100000'\n",
    "\n",
    "first,last,pay = emp_str_1.split('-')\n",
    "emp_3 = EmpComp2(first,last,pay)\n",
    "print('\\nUsing Traditional orientation------->')\n",
    "print(emp_3.email)\n",
    "print(emp_3.fullname())\n",
    "#This way is fine,but only for few datasets\n",
    "print('\\nUsing class method---------------->')\n",
    "#Using classmethod\n",
    "emp_4 = EmpComp2.from_string(emp_str2)\n",
    "print(emp_4.email)\n",
    "print(emp_4.fullname())\n",
    "\n",
    "print('Using static method---------->')\n",
    "import random\n",
    "weekdays = ['mon','tue','wed','thu','fri','sat','sun']\n",
    "my_date = random.choice(weekdays)\n",
    "print(EmpComp2.is_workday(my_date))"
   ]
  },
  {
   "cell_type": "code",
   "execution_count": null,
   "id": "c7f26a47",
   "metadata": {},
   "outputs": [],
   "source": []
  }
 ],
 "metadata": {
  "kernelspec": {
   "display_name": "Python 3 (ipykernel)",
   "language": "python",
   "name": "python3"
  },
  "language_info": {
   "codemirror_mode": {
    "name": "ipython",
    "version": 3
   },
   "file_extension": ".py",
   "mimetype": "text/x-python",
   "name": "python",
   "nbconvert_exporter": "python",
   "pygments_lexer": "ipython3",
   "version": "3.9.13"
  }
 },
 "nbformat": 4,
 "nbformat_minor": 5
}
