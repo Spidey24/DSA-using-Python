{
 "cells": [
  {
   "cell_type": "markdown",
   "id": "c38dc2fc",
   "metadata": {},
   "source": [
    "### **Arrays** \n",
    "---\n",
    "* Linear Data Structure \n",
    "* Is stored in Contiguous Memory Locations\n",
    "* Access elements randomly \n",
    "* Homogeneous elements"
   ]
  },
  {
   "cell_type": "markdown",
   "id": "da3a8a59",
   "metadata": {},
   "source": [
    "#### *Application*\n",
    "---\n",
    "* Storing information in lienar fashion\n",
    "* Suitable for application which require frequent searching \n",
    "* Suitable for storing similar type of data"
   ]
  },
  {
   "cell_type": "markdown",
   "id": "bedf36d4",
   "metadata": {},
   "source": [
    "**Array Implementation**"
   ]
  },
  {
   "cell_type": "code",
   "execution_count": 1,
   "id": "43413d27",
   "metadata": {},
   "outputs": [
    {
     "data": {
      "text/plain": [
       "array('i', [1, 24, 1, 25])"
      ]
     },
     "execution_count": 1,
     "metadata": {},
     "output_type": "execute_result"
    }
   ],
   "source": [
    "#Syntax -> variable_name = array(typecode,[elements])\n",
    "\n",
    "import array as arr\n",
    "arr.array('i',[1,24,1,25])"
   ]
  },
  {
   "cell_type": "code",
   "execution_count": 2,
   "id": "711f6bc5",
   "metadata": {},
   "outputs": [],
   "source": [
    "# numbers = arr.array('i',[10.0,20,30])\n",
    "# print(numbers)\n",
    "\n",
    "#output\n",
    "#Traceback (most recent call last):\n",
    "# File \"/Users/dionysialemonaki/python_articles/demo.py\", line 14, in <module>\n",
    "#   numbers = arr.array('i',[10.0,20,30])\n",
    "#TypeError: 'float' object cannot be interpreted as an integer"
   ]
  },
  {
   "cell_type": "code",
   "execution_count": 3,
   "id": "edb70fba",
   "metadata": {},
   "outputs": [
    {
     "name": "stdout",
     "output_type": "stream",
     "text": [
      "array('d', [10.0, 20.0, 30.0])\n"
     ]
    }
   ],
   "source": [
    "#an array of floating point values\n",
    "\n",
    "numbers = arr.array('d',[10.0,20.0,30.0])\n",
    "print(numbers)\n"
   ]
  },
  {
   "attachments": {
    "Screenshot%202023-03-25%20115922.png": {
     "image/png": "[encoded data removed]"
    }
   },
   "cell_type": "markdown",
   "id": "afe2ff5f",
   "metadata": {},
   "source": [
    "\n",
    "**Different typecode of *array-types* available in Python with sizes**\n",
    "![Screenshot%202023-03-25%20115922.png](attachment:Screenshot%202023-03-25%20115922.png)\n"
   ]
  },
  {
   "cell_type": "code",
   "execution_count": 4,
   "id": "2673776f",
   "metadata": {},
   "outputs": [
    {
     "name": "stdout",
     "output_type": "stream",
     "text": [
      "6\n"
     ]
    }
   ],
   "source": [
    "# Finding length of an array\n",
    "numbers = arr.array('i',[10,20,30,40,50,60])\n",
    "print(len(numbers))"
   ]
  },
  {
   "cell_type": "code",
   "execution_count": 5,
   "id": "e550678b",
   "metadata": {},
   "outputs": [
    {
     "name": "stdout",
     "output_type": "stream",
     "text": [
      "1\n",
      "20\n"
     ]
    }
   ],
   "source": [
    "# Array indexing and Accessing elements in array\n",
    "# Syntax -> array_name[index_value_of_item]\n",
    "numbers = arr.array('i',[1,20,34])\n",
    "print(numbers[0])\n",
    "# Out of index accessing\n",
    "# print(numbers[20])\n",
    "#Output\n",
    "# >>> IndexError: array index out of range\n",
    "\n",
    "# We can also use negative indexing \n",
    "print(numbers[-2])"
   ]
  },
  {
   "cell_type": "code",
   "execution_count": 6,
   "id": "93983227",
   "metadata": {},
   "outputs": [
    {
     "name": "stdout",
     "output_type": "stream",
     "text": [
      "0\n",
      "2\n"
     ]
    }
   ],
   "source": [
    "# Searching Elements\n",
    "numbers = arr.array('i',[10,20,30])\n",
    "#search for the index of the value 10\n",
    "print(numbers.index(10))\n",
    "\n",
    "#If there are multiple occurences then it will return the value at first occurence\n",
    "num = arr.array('i',[1,2,32,2,32,32,1])\n",
    "print(num.index(32)) # First occurence was at index 2"
   ]
  },
  {
   "cell_type": "code",
   "execution_count": 7,
   "id": "aee04d18",
   "metadata": {},
   "outputs": [
    {
     "name": "stdout",
     "output_type": "stream",
     "text": [
      "array('d', [1.0, 2.0, 3.3])\n"
     ]
    }
   ],
   "source": [
    "# Looping through an Array in Python\n",
    "numbers = arr.array('d',[1.0,2.0,3.30])\n",
    "print(numbers)"
   ]
  },
  {
   "cell_type": "code",
   "execution_count": 8,
   "id": "39315062",
   "metadata": {},
   "outputs": [
    {
     "name": "stdout",
     "output_type": "stream",
     "text": [
      "10\n",
      "20\n",
      "30\n",
      "100\n",
      "200\n",
      "300\n"
     ]
    }
   ],
   "source": [
    "#Using For loop\n",
    "numbers = arr.array('i',[10,20,30])\n",
    "for number in numbers:\n",
    "    print(number)\n",
    "\n",
    "#Using range \n",
    "values = arr.array('i',[100,200,300])\n",
    "#prints each individual value in the array\n",
    "for value in range(len(values)):\n",
    "    print(values[value])"
   ]
  },
  {
   "cell_type": "code",
   "execution_count": 9,
   "id": "4a23c7e5",
   "metadata": {},
   "outputs": [
    {
     "name": "stdout",
     "output_type": "stream",
     "text": [
      "array('i', [10, 20, 30, 40, 50])\n"
     ]
    }
   ],
   "source": [
    "#Slcing an array\n",
    "#original array\n",
    "numbs = arr.array('i',[10,20,30,40,50,60,70,80])\n",
    "#get the sliced values\n",
    "print(numbs[:5])"
   ]
  },
  {
   "cell_type": "code",
   "execution_count": 10,
   "id": "6794696a",
   "metadata": {},
   "outputs": [
    {
     "name": "stdout",
     "output_type": "stream",
     "text": [
      "array('i', [20])\n"
     ]
    }
   ],
   "source": [
    "# If we added another parameter to array slicing then the second one will not be included\n",
    "print(numbs[1:2])"
   ]
  },
  {
   "cell_type": "markdown",
   "id": "0978aaf6",
   "metadata": {},
   "source": [
    "**Array Operations**"
   ]
  },
  {
   "cell_type": "code",
   "execution_count": 11,
   "id": "3291c8fc",
   "metadata": {},
   "outputs": [
    {
     "name": "stdout",
     "output_type": "stream",
     "text": [
      "array('i', [1, 2, 3, 4, 5, 6])\n",
      "array('i', [0, 2, 3, 4, 5, 6])\n"
     ]
    }
   ],
   "source": [
    "#Changing the value of an item in an array\n",
    "ar = arr.array('i',[1,2,3,4,5,6])\n",
    "print(ar)\n",
    "ar[0] = 0\n",
    "print(ar)"
   ]
  },
  {
   "cell_type": "code",
   "execution_count": 12,
   "id": "114c8ea8",
   "metadata": {},
   "outputs": [
    {
     "name": "stdout",
     "output_type": "stream",
     "text": [
      "array('i', [0, 2, 3, 4, 5, 6, 7])\n",
      "array('i', [0, 2, 3, 4, 5, 6, 7, 10, 20, 30, 40])\n",
      "array('i', [0, 1, 2, 3, 4, 5, 6, 7, 10, 20, 30, 40])\n"
     ]
    }
   ],
   "source": [
    "# Adding a new vlaue to an array\n",
    "ar.append(7)\n",
    "print(ar)\n",
    "\n",
    "#To add a set of values we need to use extend() method\n",
    "ar.extend([10,20,30,40])\n",
    "print(ar)\n",
    "\n",
    "# If we want to add element at specific postion use insert() method\n",
    "ar.insert(1,1)\n",
    "print(ar)"
   ]
  },
  {
   "cell_type": "code",
   "execution_count": 13,
   "id": "84ee7d25",
   "metadata": {},
   "outputs": [
    {
     "name": "stdout",
     "output_type": "stream",
     "text": [
      "array('i', [0, 1, 2, 3, 4, 5, 6, 7, 20, 30, 40])\n"
     ]
    }
   ],
   "source": [
    "#Removing value from an array\n",
    "ar.remove(10)\n",
    "print(ar)\n"
   ]
  },
  {
   "cell_type": "code",
   "execution_count": 18,
   "id": "855c2cdd",
   "metadata": {},
   "outputs": [
    {
     "name": "stdout",
     "output_type": "stream",
     "text": [
      "array('d', [1.0, 2.0, 3.14])\n",
      "array('i', [10, 20, 30, 40])\n"
     ]
    }
   ],
   "source": [
    "\n",
    "# remove() method only removes first occurence\n",
    "ar2 = arr.array('d',[1.0,2.0,3.14,3.14])\n",
    "ar2.remove(3.14)\n",
    "print(ar2)\n",
    "\n",
    "# We can use pop() method and specify position also\n",
    "numb = arr.array('i',[10,20,30,10,40])\n",
    "numb.pop(3)\n",
    "print(numb)"
   ]
  },
  {
   "cell_type": "code",
   "execution_count": null,
   "id": "3cbdfb51",
   "metadata": {},
   "outputs": [],
   "source": []
  }
 ],
 "metadata": {
  "kernelspec": {
   "display_name": "Python 3 (ipykernel)",
   "language": "python",
   "name": "python3"
  },
  "language_info": {
   "codemirror_mode": {
    "name": "ipython",
    "version": 3
   },
   "file_extension": ".py",
   "mimetype": "text/x-python",
   "name": "python",
   "nbconvert_exporter": "python",
   "pygments_lexer": "ipython3",
   "version": "3.9.13"
  }
 },
 "nbformat": 4,
 "nbformat_minor": 5
}
